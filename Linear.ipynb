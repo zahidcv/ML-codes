{
 "cells": [
  {
   "cell_type": "code",
   "execution_count": 9,
   "id": "bb22f4b6",
   "metadata": {},
   "outputs": [
    {
     "name": "stdout",
     "output_type": "stream",
     "text": [
      "(5, 4) (4,)\n",
      "(5, 4) (4,)\n",
      "(5, 4) (4,)\n",
      "(5, 4) (4,)\n",
      "(5, 4) (4,)\n",
      "(5, 4) (4,)\n",
      "(5, 4) (4,)\n",
      "(5, 4) (4,)\n",
      "(5, 4) (4,)\n",
      "(5, 4) (4,)\n",
      "10 [3.  1.5 2. ]\n",
      "[3.93245392 3.99138382 2.90434886 4.38277444]\n"
     ]
    },
    {
     "data": {
      "text/plain": [
       "[<matplotlib.lines.Line2D at 0x12a4da080>]"
      ]
     },
     "execution_count": 9,
     "metadata": {},
     "output_type": "execute_result"
    },
    {
     "data": {
      "image/png": "[encoded data removed]",
      "text/plain": [
       "<Figure size 640x480 with 1 Axes>"
      ]
     },
     "metadata": {},
     "output_type": "display_data"
    }
   ],
   "source": [
    "import numpy as np\n",
    "import matplotlib.pyplot as plt\n",
    "def gradient_descent(X, y, theta, alpha, num_iterations):\n",
    "\n",
    "  J_all = []\n",
    "\n",
    "  for i in range(num_iterations):\n",
    "    # Compute the predictions.\n",
    "#     print(X.shape, theta.shape)\n",
    "    h = np.dot(X, theta)\n",
    "\n",
    "    # Compute the cost function.\n",
    "    J = np.sum((h - y)**2) / (2 * X.shape[0])\n",
    "\n",
    "    # Compute the gradients.\n",
    "    gradients = np.dot(X.T, (h - y)) / X.shape[0]\n",
    "\n",
    "    # Update the model parameters.\n",
    "    theta -= alpha * gradients\n",
    "\n",
    "    # Store the cost function value for this iteration.\n",
    "    J_all.append(J)\n",
    "\n",
    "  return theta, J_all\n",
    "\n",
    "\n",
    "num_samples = 5\n",
    "num_features = 3\n",
    "\n",
    "X = 2 * np.random.rand(num_samples, num_features)\n",
    "true_theta = np.array([3, 1.5, 2])\n",
    "noise = 10\n",
    "y = X.dot(true_theta) + noise\n",
    "\n",
    "X = np.c_[np.ones((X.shape[0], 1)), X]\n",
    "\n",
    "theta = np.ones((num_features+1))\n",
    "alpha = 0.1\n",
    "\n",
    "num_iterations = 10\n",
    "\n",
    "theta, J_all = gradient_descent(X, y, theta, alpha, num_iterations)\n",
    "print(noise, true_theta)\n",
    "\n",
    "print(theta)\n",
    "# print(J_all)\n",
    "plt.plot(range(num_iterations), J_all)"
   ]
  },
  {
   "cell_type": "code",
   "execution_count": null,
   "id": "ce58b70d",
   "metadata": {},
   "outputs": [],
   "source": []
  }
 ],
 "metadata": {
  "kernelspec": {
   "display_name": "Python 3 (ipykernel)",
   "language": "python",
   "name": "python3"
  },
  "language_info": {
   "codemirror_mode": {
    "name": "ipython",
    "version": 3
   },
   "file_extension": ".py",
   "mimetype": "text/x-python",
   "name": "python",
   "nbconvert_exporter": "python",
   "pygments_lexer": "ipython3",
   "version": "3.10.9"
  }
 },
 "nbformat": 4,
 "nbformat_minor": 5
}
